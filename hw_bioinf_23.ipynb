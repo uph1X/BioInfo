{
 "cells": [
  {
   "cell_type": "code",
   "execution_count": 7,
   "id": "0198a92d-88d9-4249-896f-292bb98bf7ee",
   "metadata": {},
   "outputs": [],
   "source": [
    "from pandas import DataFrame"
   ]
  },
  {
   "cell_type": "code",
   "execution_count": 8,
   "id": "b813793a-3c74-4ac9-aa2d-a6b694de8533",
   "metadata": {},
   "outputs": [],
   "source": [
    "def needleman_wunsch(seq1, seq2, match=1, mismatch=-1, gap=-2):\n",
    "    n = len(seq1)\n",
    "    m = len(seq2)\n",
    "    \n",
    "    dp = [[0] * (m + 1) for _ in range(n + 1)]\n",
    "    \n",
    "    for i in range(n + 1):\n",
    "        dp[i][0] = gap * i\n",
    "    for j in range(m + 1):\n",
    "        dp[0][j] = gap * j\n",
    "    \n",
    "    for i in range(1, n + 1):\n",
    "        for j in range(1, m + 1):\n",
    "            score = match if seq1[i - 1] == seq2[j - 1] else mismatch\n",
    "            dp[i][j] = max(dp[i - 1][j - 1] + score,\n",
    "                           dp[i - 1][j] + gap,\n",
    "                           dp[i][j - 1] + gap)\n",
    "    \n",
    "    return dp"
   ]
  },
  {
   "cell_type": "code",
   "execution_count": 9,
   "id": "e8b8017f-a27d-4515-89cb-6521127c9376",
   "metadata": {},
   "outputs": [],
   "source": [
    "seq1 = 'GGAGGTA'\n",
    "seq2 = 'GTGGGTT'"
   ]
  },
  {
   "cell_type": "code",
   "execution_count": 13,
   "id": "f7f79c7e-c8fa-4eba-bfc9-4ab026603818",
   "metadata": {},
   "outputs": [
    {
     "name": "stdout",
     "output_type": "stream",
     "text": [
      "[[0, -2, -4, -6, -8, -10, -12, -14], [-2, 1, -1, -3, -5, -7, -9, -11], [-4, -1, 0, 0, -2, -4, -6, -8], [-6, -3, -2, -1, -1, -3, -5, -7], [-8, -5, -4, -1, 0, 0, -2, -4], [-10, -7, -6, -3, 0, 1, -1, -3], [-12, -9, -6, -5, -2, -1, 2, 0], [-14, -11, -8, -7, -4, -3, 0, 1]]\n"
     ]
    }
   ],
   "source": [
    "x = needleman_wunsch(seq1, seq2)\n",
    "print(x)"
   ]
  },
  {
   "cell_type": "code",
   "execution_count": 16,
   "id": "8e4c45c3-dcc9-434b-826f-e558c8138200",
   "metadata": {},
   "outputs": [
    {
     "data": {
      "text/html": [
       "<div>\n",
       "<style scoped>\n",
       "    .dataframe tbody tr th:only-of-type {\n",
       "        vertical-align: middle;\n",
       "    }\n",
       "\n",
       "    .dataframe tbody tr th {\n",
       "        vertical-align: top;\n",
       "    }\n",
       "\n",
       "    .dataframe thead th {\n",
       "        text-align: right;\n",
       "    }\n",
       "</style>\n",
       "<table border=\"1\" class=\"dataframe\">\n",
       "  <thead>\n",
       "    <tr style=\"text-align: right;\">\n",
       "      <th></th>\n",
       "      <th>0</th>\n",
       "      <th>1</th>\n",
       "      <th>2</th>\n",
       "      <th>3</th>\n",
       "      <th>4</th>\n",
       "      <th>5</th>\n",
       "      <th>6</th>\n",
       "      <th>7</th>\n",
       "    </tr>\n",
       "  </thead>\n",
       "  <tbody>\n",
       "    <tr>\n",
       "      <th>0</th>\n",
       "      <td>0</td>\n",
       "      <td>-2</td>\n",
       "      <td>-4</td>\n",
       "      <td>-6</td>\n",
       "      <td>-8</td>\n",
       "      <td>-10</td>\n",
       "      <td>-12</td>\n",
       "      <td>-14</td>\n",
       "    </tr>\n",
       "    <tr>\n",
       "      <th>1</th>\n",
       "      <td>-2</td>\n",
       "      <td>1</td>\n",
       "      <td>-1</td>\n",
       "      <td>-3</td>\n",
       "      <td>-5</td>\n",
       "      <td>-7</td>\n",
       "      <td>-9</td>\n",
       "      <td>-11</td>\n",
       "    </tr>\n",
       "    <tr>\n",
       "      <th>2</th>\n",
       "      <td>-4</td>\n",
       "      <td>-1</td>\n",
       "      <td>0</td>\n",
       "      <td>0</td>\n",
       "      <td>-2</td>\n",
       "      <td>-4</td>\n",
       "      <td>-6</td>\n",
       "      <td>-8</td>\n",
       "    </tr>\n",
       "    <tr>\n",
       "      <th>3</th>\n",
       "      <td>-6</td>\n",
       "      <td>-3</td>\n",
       "      <td>-2</td>\n",
       "      <td>-1</td>\n",
       "      <td>-1</td>\n",
       "      <td>-3</td>\n",
       "      <td>-5</td>\n",
       "      <td>-7</td>\n",
       "    </tr>\n",
       "    <tr>\n",
       "      <th>4</th>\n",
       "      <td>-8</td>\n",
       "      <td>-5</td>\n",
       "      <td>-4</td>\n",
       "      <td>-1</td>\n",
       "      <td>0</td>\n",
       "      <td>0</td>\n",
       "      <td>-2</td>\n",
       "      <td>-4</td>\n",
       "    </tr>\n",
       "    <tr>\n",
       "      <th>5</th>\n",
       "      <td>-10</td>\n",
       "      <td>-7</td>\n",
       "      <td>-6</td>\n",
       "      <td>-3</td>\n",
       "      <td>0</td>\n",
       "      <td>1</td>\n",
       "      <td>-1</td>\n",
       "      <td>-3</td>\n",
       "    </tr>\n",
       "    <tr>\n",
       "      <th>6</th>\n",
       "      <td>-12</td>\n",
       "      <td>-9</td>\n",
       "      <td>-6</td>\n",
       "      <td>-5</td>\n",
       "      <td>-2</td>\n",
       "      <td>-1</td>\n",
       "      <td>2</td>\n",
       "      <td>0</td>\n",
       "    </tr>\n",
       "    <tr>\n",
       "      <th>7</th>\n",
       "      <td>-14</td>\n",
       "      <td>-11</td>\n",
       "      <td>-8</td>\n",
       "      <td>-7</td>\n",
       "      <td>-4</td>\n",
       "      <td>-3</td>\n",
       "      <td>0</td>\n",
       "      <td>1</td>\n",
       "    </tr>\n",
       "  </tbody>\n",
       "</table>\n",
       "</div>"
      ],
      "text/plain": [
       "    0   1  2  3  4   5   6   7\n",
       "0   0  -2 -4 -6 -8 -10 -12 -14\n",
       "1  -2   1 -1 -3 -5  -7  -9 -11\n",
       "2  -4  -1  0  0 -2  -4  -6  -8\n",
       "3  -6  -3 -2 -1 -1  -3  -5  -7\n",
       "4  -8  -5 -4 -1  0   0  -2  -4\n",
       "5 -10  -7 -6 -3  0   1  -1  -3\n",
       "6 -12  -9 -6 -5 -2  -1   2   0\n",
       "7 -14 -11 -8 -7 -4  -3   0   1"
      ]
     },
     "execution_count": 16,
     "metadata": {},
     "output_type": "execute_result"
    }
   ],
   "source": [
    "df = DataFrame(needleman_wunsch(seq1, seq2))\n",
    "df.head(9)"
   ]
  },
  {
   "cell_type": "code",
   "execution_count": 17,
   "id": "f38afced-40f1-445a-8e74-6078beb72b8f",
   "metadata": {},
   "outputs": [
    {
     "name": "stdout",
     "output_type": "stream",
     "text": [
      "-11\n"
     ]
    }
   ],
   "source": [
    "print(x[1][7])"
   ]
  },
  {
   "cell_type": "code",
   "execution_count": 22,
   "id": "1831e249-c209-4a30-b8ea-10db43254b7e",
   "metadata": {},
   "outputs": [
    {
     "name": "stdout",
     "output_type": "stream",
     "text": [
      "Выравнивание: GGAGGTA GTGGGTT\n"
     ]
    }
   ],
   "source": [
    "gap = -2\n",
    "i = 6\n",
    "j = 6\n",
    "al1 = ''\n",
    "al2 = ''\n",
    "while(i > 0 or j > 0):\n",
    "    if x[i][j] == x[i-1][j-1] + 1 or x[i][j] == x[i-1][j-1] - 1: #match или mismatch\n",
    "        al1 += seq1[i]\n",
    "        al2 += seq2[j]\n",
    "        i -= 1\n",
    "        j -= 1\n",
    "    elif x[i][j] == x[i][j-1] - 2: #gap -> vlevo\n",
    "        al1 += seq1[i]\n",
    "        al2 += '-'\n",
    "        j -= 1\n",
    "    elif x[i][j] == x[i-1][j] - 2:\n",
    "        al1 += '-'\n",
    "        al2 += seq2[j]\n",
    "        i -= 1\n",
    "al1 += seq1[i]\n",
    "al2 += seq2[j]\n",
    "print(\"Выравнивание:\", al1[::-1], al2[::-1])"
   ]
  },
  {
   "cell_type": "code",
   "execution_count": 23,
   "id": "bb074853-56de-46e0-abb0-3887cee65c65",
   "metadata": {},
   "outputs": [
    {
     "name": "stdout",
     "output_type": "stream",
     "text": [
      "Score: 1\n"
     ]
    }
   ],
   "source": [
    "print(\"Score:\", x[7][7])"
   ]
  },
  {
   "cell_type": "code",
   "execution_count": null,
   "id": "3ef2ba8d-a7aa-4e6e-81e6-01d94ba107ca",
   "metadata": {},
   "outputs": [],
   "source": []
  }
 ],
 "metadata": {
  "kernelspec": {
   "display_name": "Python 3 (ipykernel)",
   "language": "python",
   "name": "python3"
  },
  "language_info": {
   "codemirror_mode": {
    "name": "ipython",
    "version": 3
   },
   "file_extension": ".py",
   "mimetype": "text/x-python",
   "name": "python",
   "nbconvert_exporter": "python",
   "pygments_lexer": "ipython3",
   "version": "3.12.5"
  }
 },
 "nbformat": 4,
 "nbformat_minor": 5
}
